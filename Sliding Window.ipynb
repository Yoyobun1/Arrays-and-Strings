{
 "cells": [
  {
   "cell_type": "code",
   "execution_count": 7,
   "id": "a5025c81-a08f-46fd-8b29-c9f8fc9639fe",
   "metadata": {},
   "outputs": [
    {
     "name": "stdout",
     "output_type": "stream",
     "text": [
      "Enter no of elements to find sum of:  4\n"
     ]
    },
    {
     "name": "stdout",
     "output_type": "stream",
     "text": [
      "max sum is 44\n"
     ]
    }
   ],
   "source": [
    "'''find the subarray with the max sum of subarray length k'''\n",
    "def sliding_window(arr,N,size):\n",
    "    max=0\n",
    "    for i in range(N-(size-1)):\n",
    "        sum=0\n",
    "        for j in range(size): \n",
    "            sum+=arr[i+j]\n",
    "        if sum>max:\n",
    "            max=sum\n",
    "    return max\n",
    "  \n",
    "arr1=[2,12,15,8,9,10,11]\n",
    "s=int(input('Enter no of elements to find sum of: '))\n",
    "n=len(arr1)\n",
    "print(f'max sum is {sliding_window(arr1,n,s)}')"
   ]
  },
  {
   "cell_type": "code",
   "execution_count": null,
   "id": "eb5c0844-997e-4e3a-a668-00ba8e6940fa",
   "metadata": {},
   "outputs": [],
   "source": []
  }
 ],
 "metadata": {
  "kernelspec": {
   "display_name": "Python 3 (ipykernel)",
   "language": "python",
   "name": "python3"
  },
  "language_info": {
   "codemirror_mode": {
    "name": "ipython",
    "version": 3
   },
   "file_extension": ".py",
   "mimetype": "text/x-python",
   "name": "python",
   "nbconvert_exporter": "python",
   "pygments_lexer": "ipython3",
   "version": "3.12.4"
  }
 },
 "nbformat": 4,
 "nbformat_minor": 5
}
