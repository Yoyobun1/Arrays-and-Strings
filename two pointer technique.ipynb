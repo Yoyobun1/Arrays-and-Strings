{
 "cells": [
  {
   "cell_type": "code",
   "execution_count": 21,
   "id": "4935a524-04ed-42f7-b88c-5ec498add6e7",
   "metadata": {},
   "outputs": [
    {
     "name": "stdout",
     "output_type": "stream",
     "text": [
      "[2, 8, 9, 10, 11, 12, 15]\n",
      "8 + 10 = 18\n",
      "[1, 3]\n",
      "True\n"
     ]
    }
   ],
   "source": [
    "'''Given an array of integers nums and an integer target, return indices of the two numbers such that they add up to target.\n",
    "You may assume that each input would have exactly one solution, and you may not use the same element twice.\n",
    "You can return the answer in any order.'''\n",
    "\n",
    "def two_ptr(arr,N,target):\n",
    "    i=0\n",
    "    j=N-1\n",
    "    while i<j:\n",
    "        if arr[i]+arr[j]==target:\n",
    "            l1=[i,j]\n",
    "            print(f'{arr[i]} + {arr[j]} = {target}')\n",
    "            print(l1)\n",
    "            return True\n",
    "        elif arr[i]+arr[j]<target:                                #no need to check if its target is lesser as list has been sorted\n",
    "            i+=1\n",
    "        else:\n",
    "            j-=1                                                  #i starts from 0 while j starts from end of the list hence needs to be decremented\n",
    "    return False\n",
    "\n",
    "arr1=[2,12,15,8,9,10,11]\n",
    "val=18\n",
    "size=len(arr1)\n",
    "arr1.sort()                                                       #function to sort a list\n",
    "print(arr1)\n",
    "print(two_ptr(arr1,size,val))"
   ]
  },
  {
   "cell_type": "code",
   "execution_count": null,
   "id": "950653a1-014a-4201-8e64-a725bb30a7a7",
   "metadata": {},
   "outputs": [],
   "source": []
  }
 ],
 "metadata": {
  "kernelspec": {
   "display_name": "Python 3 (ipykernel)",
   "language": "python",
   "name": "python3"
  },
  "language_info": {
   "codemirror_mode": {
    "name": "ipython",
    "version": 3
   },
   "file_extension": ".py",
   "mimetype": "text/x-python",
   "name": "python",
   "nbconvert_exporter": "python",
   "pygments_lexer": "ipython3",
   "version": "3.12.4"
  }
 },
 "nbformat": 4,
 "nbformat_minor": 5
}
