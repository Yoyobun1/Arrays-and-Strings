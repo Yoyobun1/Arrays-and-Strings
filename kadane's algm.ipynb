{
 "cells": [
  {
   "cell_type": "code",
   "execution_count": 13,
   "id": "a5025c81-a08f-46fd-8b29-c9f8fc9639fe",
   "metadata": {},
   "outputs": [
    {
     "name": "stdout",
     "output_type": "stream",
     "text": [
      "4\n"
     ]
    }
   ],
   "source": [
    "'''Given an integer array arr[],\n",
    "find the contiguous sub-array(containing at least one number) that has the maximum sum and return its sum.'''\n",
    "def kadane_algm(arr):\n",
    "    max_curr=arr[0]\n",
    "    max_global=arr[0]\n",
    "    for i in range(1,len(arr)):\n",
    "        max_curr=max(arr[i],max_curr+arr[i])\n",
    "    if max_curr>max_global:\n",
    "        max_global=max_curr\n",
    "    return max_global\n",
    "\n",
    "l=[-2,-3,4,-1,-2,1,5,-3]\n",
    "print(kadane_algm(l))\n",
    "            \n",
    "\n",
    "    "
   ]
  },
  {
   "cell_type": "code",
   "execution_count": null,
   "id": "eb5c0844-997e-4e3a-a668-00ba8e6940fa",
   "metadata": {},
   "outputs": [],
   "source": []
  }
 ],
 "metadata": {
  "kernelspec": {
   "display_name": "Python 3 (ipykernel)",
   "language": "python",
   "name": "python3"
  },
  "language_info": {
   "codemirror_mode": {
    "name": "ipython",
    "version": 3
   },
   "file_extension": ".py",
   "mimetype": "text/x-python",
   "name": "python",
   "nbconvert_exporter": "python",
   "pygments_lexer": "ipython3",
   "version": "3.12.4"
  }
 },
 "nbformat": 4,
 "nbformat_minor": 5
}
