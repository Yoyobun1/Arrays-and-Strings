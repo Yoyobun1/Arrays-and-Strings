{
 "cells": [
  {
   "cell_type": "code",
   "execution_count": 7,
   "id": "a5025c81-a08f-46fd-8b29-c9f8fc9639fe",
   "metadata": {},
   "outputs": [
    {
     "name": "stdout",
     "output_type": "stream",
     "text": [
      "[10, 30, 40, 45, 60]\n"
     ]
    }
   ],
   "source": [
    "'''print an array with elements as the sum of all previous 2 elements in the given array'''\n",
    "def prefix_sum(arr):\n",
    "    arr1=[0]*len(arr)\n",
    "    j=0\n",
    "    for i in range(len(arr)):\n",
    "        arr1[i]=arr1[i-1]+arr[i]\n",
    "    return arr1\n",
    "\n",
    "l=[10,20,10,5,15]\n",
    "print(prefix_sum(l))\n",
    "    "
   ]
  },
  {
   "cell_type": "code",
   "execution_count": null,
   "id": "eb5c0844-997e-4e3a-a668-00ba8e6940fa",
   "metadata": {},
   "outputs": [],
   "source": []
  }
 ],
 "metadata": {
  "kernelspec": {
   "display_name": "Python 3 (ipykernel)",
   "language": "python",
   "name": "python3"
  },
  "language_info": {
   "codemirror_mode": {
    "name": "ipython",
    "version": 3
   },
   "file_extension": ".py",
   "mimetype": "text/x-python",
   "name": "python",
   "nbconvert_exporter": "python",
   "pygments_lexer": "ipython3",
   "version": "3.12.4"
  }
 },
 "nbformat": 4,
 "nbformat_minor": 5
}
